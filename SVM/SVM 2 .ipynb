{
 "cells": [
  {
   "cell_type": "code",
   "execution_count": 4,
   "id": "784027af",
   "metadata": {},
   "outputs": [
    {
     "name": "stderr",
     "output_type": "stream",
     "text": [
      "fatal: destination path 'python-mnist' already exists and is not an empty directory.\n",
      "'.' is not recognized as an internal or external command,\n",
      "operable program or batch file.\n"
     ]
    },
    {
     "name": "stdout",
     "output_type": "stream",
     "text": [
      "Defaulting to user installation because normal site-packages is not writeable\n",
      "Requirement already satisfied: emnist in c:\\users\\hicham\\appdata\\roaming\\python\\python310\\site-packages (0.0)\n",
      "Requirement already satisfied: numpy in c:\\users\\hicham\\appdata\\roaming\\python\\python310\\site-packages (from emnist) (1.26.3)\n",
      "Requirement already satisfied: requests in c:\\users\\hicham\\appdata\\roaming\\python\\python310\\site-packages (from emnist) (2.31.0)\n",
      "Requirement already satisfied: tqdm in c:\\programdata\\anaconda3\\lib\\site-packages (from emnist) (4.64.1)\n",
      "Requirement already satisfied: charset-normalizer<4,>=2 in c:\\users\\hicham\\appdata\\roaming\\python\\python310\\site-packages (from requests->emnist) (3.3.2)\n",
      "Requirement already satisfied: idna<4,>=2.5 in c:\\users\\hicham\\appdata\\roaming\\python\\python310\\site-packages (from requests->emnist) (3.6)\n",
      "Requirement already satisfied: urllib3<3,>=1.21.1 in c:\\users\\hicham\\appdata\\roaming\\python\\python310\\site-packages (from requests->emnist) (2.0.7)\n",
      "Requirement already satisfied: certifi>=2017.4.17 in c:\\users\\hicham\\appdata\\roaming\\python\\python310\\site-packages (from requests->emnist) (2023.11.17)\n",
      "Requirement already satisfied: colorama in c:\\users\\hicham\\appdata\\roaming\\python\\python310\\site-packages (from tqdm->emnist) (0.4.4)\n"
     ]
    }
   ],
   "source": [
    "# Clone the repository and download the EMNIST dataset\n",
    "!git clone https://github.com/sorki/python-mnist\n",
    "!./python-mnist/get_data.sh\n",
    "!pip install emnist\n",
    "\n",
    "# Import necessary libraries\n",
    "import matplotlib.pyplot as plt\n",
    "from emnist import extract_training_samples\n",
    "from sklearn.model_selection import train_test_split\n",
    "from sklearn.svm import SVC\n",
    "from sklearn.metrics import classification_report\n",
    "\n",
    "\n",
    "\n",
    "\n",
    "\n",
    "\n",
    "\n",
    "\n",
    "\n",
    "\n"
   ]
  },
  {
   "cell_type": "code",
   "execution_count": 3,
   "id": "b2c02754",
   "metadata": {},
   "outputs": [],
   "source": [
    "# Load EMNIST dataset for letters\n",
    "x, y = extract_training_samples('letters')"
   ]
  },
  {
   "cell_type": "code",
   "execution_count": 3,
   "id": "0886b368",
   "metadata": {},
   "outputs": [
    {
     "data": {
      "text/plain": [
       "<Figure size 640x480 with 0 Axes>"
      ]
     },
     "metadata": {},
     "output_type": "display_data"
    },
    {
     "data": {
      "image/png": "[encoded data removed]",
      "text/plain": [
       "<Figure size 480x480 with 1 Axes>"
      ]
     },
     "metadata": {},
     "output_type": "display_data"
    }
   ],
   "source": [
    "\n",
    "# Display a sample image\n",
    "plt.gray()\n",
    "plt.matshow(x[0])\n",
    "plt.show()\n"
   ]
  },
  {
   "cell_type": "code",
   "execution_count": 4,
   "id": "442b73b2",
   "metadata": {},
   "outputs": [
    {
     "name": "stdout",
     "output_type": "stream",
     "text": [
      "124800\n"
     ]
    }
   ],
   "source": [
    "# Define variables\n",
    "n_samples = len(x)\n",
    "print(n_samples)"
   ]
  },
  {
   "cell_type": "code",
   "execution_count": 5,
   "id": "2cc0283b",
   "metadata": {},
   "outputs": [],
   "source": [
    "\n",
    "# Flatten the images\n",
    "x_flat = x.reshape((n_samples, -1))"
   ]
  },
  {
   "cell_type": "code",
   "execution_count": 6,
   "id": "8c178cdb",
   "metadata": {},
   "outputs": [],
   "source": [
    "# Split the dataset\n",
    "X_train, X_test, Y_train, Y_test = train_test_split(x_flat, y, test_size=0.2, random_state=42)"
   ]
  },
  {
   "cell_type": "code",
   "execution_count": null,
   "id": "04b2e011",
   "metadata": {},
   "outputs": [],
   "source": [
    "\n",
    "# Create and train the linear SVM model\n",
    "model_linear = SVC(kernel='linear', C=1)\n",
    "model_linear.fit(X_train, Y_train)\n"
   ]
  },
  {
   "cell_type": "code",
   "execution_count": 1,
   "id": "0cdc3c84",
   "metadata": {},
   "outputs": [
    {
     "ename": "NameError",
     "evalue": "name 'model_linear' is not defined",
     "output_type": "error",
     "traceback": [
      "\u001b[1;31m---------------------------------------------------------------------------\u001b[0m",
      "\u001b[1;31mNameError\u001b[0m                                 Traceback (most recent call last)",
      "Cell \u001b[1;32mIn[1], line 2\u001b[0m\n\u001b[0;32m      1\u001b[0m \u001b[38;5;66;03m# Predict and evaluate\u001b[39;00m\n\u001b[1;32m----> 2\u001b[0m y_pred_linear \u001b[38;5;241m=\u001b[39m \u001b[43mmodel_linear\u001b[49m\u001b[38;5;241m.\u001b[39mpredict(X_test)\n\u001b[0;32m      3\u001b[0m accuracy_linear \u001b[38;5;241m=\u001b[39m model_linear\u001b[38;5;241m.\u001b[39mscore(X_test, Y_test)\n",
      "\u001b[1;31mNameError\u001b[0m: name 'model_linear' is not defined"
     ]
    }
   ],
   "source": [
    "# Predict and evaluate\n",
    "y_pred_linear = model_linear.predict(X_test)\n",
    "accuracy_linear = model_linear.score(X_test, Y_test)"
   ]
  },
  {
   "cell_type": "code",
   "execution_count": null,
   "id": "98eb0222",
   "metadata": {},
   "outputs": [],
   "source": [
    "\n",
    "print(\"Accuracy with linear kernel:\", accuracy_linear)\n",
    "print(classification_report(Y_test, y_pred_linear))"
   ]
  },
  {
   "cell_type": "code",
   "execution_count": null,
   "id": "28fddd2f",
   "metadata": {},
   "outputs": [],
   "source": []
  },
  {
   "cell_type": "code",
   "execution_count": null,
   "id": "df30f74b",
   "metadata": {},
   "outputs": [],
   "source": []
  },
  {
   "cell_type": "code",
   "execution_count": null,
   "id": "65196d93",
   "metadata": {},
   "outputs": [],
   "source": []
  }
 ],
 "metadata": {
  "kernelspec": {
   "display_name": "Python 3 (ipykernel)",
   "language": "python",
   "name": "python3"
  },
  "language_info": {
   "codemirror_mode": {
    "name": "ipython",
    "version": 3
   },
   "file_extension": ".py",
   "mimetype": "text/x-python",
   "name": "python",
   "nbconvert_exporter": "python",
   "pygments_lexer": "ipython3",
   "version": "3.10.9"
  }
 },
 "nbformat": 4,
 "nbformat_minor": 5
}
